{
 "cells": [
  {
   "cell_type": "code",
   "execution_count": null,
   "metadata": {},
   "outputs": [],
   "source": [
    "from ultralytics import YOLO\n",
    "import numpy as np\n",
    "import matplotlib.pyplot as plt\n",
    "import cv2\n",
    "import os"
   ]
  },
  {
   "cell_type": "markdown",
   "metadata": {},
   "source": [
    "# fine tune model"
   ]
  },
  {
   "cell_type": "code",
   "execution_count": null,
   "metadata": {},
   "outputs": [],
   "source": [
    "#yolo settings datasets_dir='/Volumes/Tony SSD/Projekte/Studienarbeit/Datasets/Segmentation/tree-disk-segmentation.v3i.yolov12'"
   ]
  },
  {
   "cell_type": "code",
   "execution_count": null,
   "metadata": {},
   "outputs": [],
   "source": [
    "base_model_path = \"../models/yolo11s-seg.pt\"\n",
    "dataset_path = \"/Volumes/Tony SSD/Projekte/Studienarbeit/Datasets/Segmentation/tree-disk-segmentation.v3i.yolov12/data.yaml\""
   ]
  },
  {
   "cell_type": "code",
   "execution_count": null,
   "metadata": {},
   "outputs": [],
   "source": [
    "# check if the dataset exists\n",
    "if not os.path.exists(dataset_path):\n",
    "    print(\"Dataset not found\")\n",
    "    exit()\n",
    "\n",
    "# check if model exists\n",
    "if not os.path.exists(base_model_path):\n",
    "    print(\"Model not found\")\n",
    "    exit()"
   ]
  },
  {
   "cell_type": "code",
   "execution_count": null,
   "metadata": {},
   "outputs": [],
   "source": [
    "# Load a model\n",
    "base_model = YOLO(base_model_path)\n",
    "\n",
    "# Train the model\n",
    "train_results = base_model.train(\n",
    "    data=dataset_path,  # path to dataset YAML\n",
    "    epochs=100,  # number of training epochs\n",
    "    imgsz=640,  # training image size\n",
    "    device=\"cpu\",  # device to run on, i.e. device=0 or device=0,1,2,3 or device=cpu\n",
    "    batch=32, # batch size\n",
    ")"
   ]
  },
  {
   "cell_type": "code",
   "execution_count": null,
   "metadata": {},
   "outputs": [],
   "source": [
    "# Evaluate model performance on the validation set\n",
    "metrics = base_model.val()"
   ]
  },
  {
   "cell_type": "markdown",
   "metadata": {},
   "source": [
    "# results"
   ]
  },
  {
   "cell_type": "markdown",
   "metadata": {},
   "source": [
    "## Plot segmented masks"
   ]
  },
  {
   "cell_type": "code",
   "execution_count": null,
   "metadata": {},
   "outputs": [],
   "source": [
    "trained_model_path = \"../models/yolo11s-seg-tree.pt\""
   ]
  },
  {
   "cell_type": "code",
   "execution_count": null,
   "metadata": {},
   "outputs": [],
   "source": [
    "# check if the model exists\n",
    "if not os.path.exists(trained_model_path):\n",
    "    print(\"Model not found\")\n",
    "    exit()"
   ]
  },
  {
   "cell_type": "code",
   "execution_count": null,
   "metadata": {},
   "outputs": [],
   "source": [
    "trained_model = YOLO(trained_model_path)"
   ]
  },
  {
   "cell_type": "code",
   "execution_count": null,
   "metadata": {},
   "outputs": [],
   "source": [
    "results = trained_model(\"../input/tree-disk4.jpg\")"
   ]
  },
  {
   "cell_type": "markdown",
   "metadata": {},
   "source": [
    "## Plot segmentation mask with original colors"
   ]
  },
  {
   "cell_type": "code",
   "execution_count": null,
   "metadata": {},
   "outputs": [],
   "source": [
    "for result in results:\n",
    "    height, width = result.orig_img.shape[:2]\n",
    "    background = np.ones((height, width, 3), dtype=np.uint8) * 255\n",
    "    masks = result.masks.xy\n",
    "    orig_img = result.orig_img\n",
    "\n",
    "    for mask in masks:\n",
    "        mask = mask.astype(int)\n",
    "        mask_img = np.zeros_like(orig_img)\n",
    "\n",
    "        cv2.fillPoly(mask_img, [mask], (255, 255, 255))\n",
    "        masked_object = cv2.bitwise_and(orig_img, mask_img)\n",
    "        background[mask_img == 255] = masked_object[mask_img == 255]\n",
    "\n",
    "    background_rgb = cv2.cvtColor(background, cv2.COLOR_BGR2RGB)\n",
    "\n",
    "    plt.imshow(background_rgb)\n",
    "    plt.title('Segmented objects')\n",
    "    plt.axis('off')\n",
    "    plt.show()\n",
    "\n",
    "    cv2.imwrite('segmented_objects.jpg', background)"
   ]
  },
  {
   "cell_type": "markdown",
   "metadata": {},
   "source": [
    "# generate dataset for pith detection"
   ]
  },
  {
   "cell_type": "code",
   "execution_count": null,
   "metadata": {},
   "outputs": [],
   "source": [
    "dataset_path = \"/Users/tonymeissner/Downloads/bilder\"\n",
    "output_folder = \"output\"\n",
    "model_path = \"/Users/tonymeissner/source/tree-disk-analyzer/tree-disk-segmentation/models/yolo11s-seg-tree.pt\""
   ]
  },
  {
   "cell_type": "code",
   "execution_count": null,
   "metadata": {},
   "outputs": [],
   "source": [
    "# Create output directory if it doesn't exist\n",
    "os.makedirs(output_folder, exist_ok=True)\n",
    "\n",
    "# Function to check if file is a valid image\n",
    "def is_valid_image(filepath):\n",
    "    # Skip macOS resource fork files and hidden files\n",
    "    if os.path.basename(filepath).startswith('._') or os.path.basename(filepath).startswith('.'):\n",
    "        return False\n",
    "    \n",
    "    # Check file extension\n",
    "    if not filepath.lower().endswith('.jpg'):\n",
    "        return False\n",
    "    \n",
    "    # Verify file exists\n",
    "    if not os.path.exists(filepath):\n",
    "        return False\n",
    "        \n",
    "    return True\n",
    "\n",
    "# Find all valid image files\n",
    "image_paths = []\n",
    "for file in os.listdir(dataset_path):\n",
    "    full_path = os.path.join(dataset_path, file)\n",
    "    if os.path.isfile(full_path) and is_valid_image(full_path):\n",
    "        image_paths.append(full_path)\n",
    "\n",
    "print(f\"Found {len(image_paths)} valid images\")"
   ]
  },
  {
   "cell_type": "code",
   "execution_count": null,
   "metadata": {},
   "outputs": [],
   "source": [
    "import treedisksegmentation\n",
    "import logging\n",
    "import gc\n",
    "\n",
    "def process_image(image_path, output_folder, model_path):\n",
    "    \"\"\"Process a single image with YOLO segmentation.\"\"\"\n",
    "    try:\n",
    "        output_path = os.path.join(output_folder, os.path.basename(image_path))\n",
    "\n",
    "        if os.path.exists(output_path):\n",
    "            print(f\"Skipping existing output: {image_path}\")\n",
    "            return True\n",
    "\n",
    "        treedisksegmentation.configure(\n",
    "            model_path=model_path,\n",
    "            input_image=image_path,\n",
    "        )\n",
    "\n",
    "        result_image, masks = treedisksegmentation.run()\n",
    "\n",
    "        if masks is None:\n",
    "            print(f\"No masks detected for image: {image_path}\")\n",
    "            return False\n",
    "\n",
    "        result_image = cv2.cvtColor(result_image, cv2.COLOR_RGB2BGR)\n",
    "        cv2.imwrite(output_path, result_image)\n",
    "        print(f\"Successfully processed: {image_path}\")\n",
    "        return True\n",
    "\n",
    "    except Exception as e:\n",
    "        logging.error(f\"Error processing {image_path}: {str(e)}\", exc_info=True)\n",
    "        return False"
   ]
  },
  {
   "cell_type": "code",
   "execution_count": null,
   "metadata": {},
   "outputs": [],
   "source": [
    "for image_path in image_paths:\n",
    "    process_image(image_path, output_folder, model_path)\n",
    "    print(f\"{image_paths.index(image_path)} / {len(image_paths)} images processed\")\n",
    "    gc.collect()"
   ]
  }
 ],
 "metadata": {
  "kernelspec": {
   "display_name": ".venv",
   "language": "python",
   "name": "python3"
  },
  "language_info": {
   "codemirror_mode": {
    "name": "ipython",
    "version": 3
   },
   "file_extension": ".py",
   "mimetype": "text/x-python",
   "name": "python",
   "nbconvert_exporter": "python",
   "pygments_lexer": "ipython3",
   "version": "3.11.9"
  }
 },
 "nbformat": 4,
 "nbformat_minor": 2
}
