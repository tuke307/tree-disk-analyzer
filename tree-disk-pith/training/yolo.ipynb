{
 "cells": [
  {
   "cell_type": "code",
   "execution_count": 1,
   "metadata": {},
   "outputs": [],
   "source": [
    "from ultralytics import YOLO\n",
    "import numpy as np\n",
    "import matplotlib.pyplot as plt\n",
    "import cv2\n",
    "import os"
   ]
  },
  {
   "cell_type": "markdown",
   "metadata": {},
   "source": [
    "# fine tune model"
   ]
  },
  {
   "cell_type": "code",
   "execution_count": null,
   "metadata": {},
   "outputs": [],
   "source": [
    "#yolo settings datasets_dir='/Volumes/Tony SSD/Projekte/Studienarbeit/Datasets/Pith/tree-disk-pith.v2i.yolov12'"
   ]
  },
  {
   "cell_type": "code",
   "execution_count": null,
   "metadata": {},
   "outputs": [],
   "source": [
    "base_model_path = \"../models/yolo11s.pt\"\n",
    "dataset_path = \"/Volumes/Tony SSD/Projekte/Studienarbeit/Datasets/Pith/tree-disk-pith.v2i.yolov12/data.yaml\""
   ]
  },
  {
   "cell_type": "code",
   "execution_count": null,
   "metadata": {},
   "outputs": [],
   "source": [
    "# check if the dataset exists\n",
    "if not os.path.exists(dataset_path):\n",
    "    print(\"Dataset not found\")\n",
    "    exit()\n",
    "\n",
    "# check if model exists\n",
    "if not os.path.exists(base_model_path):\n",
    "    print(\"Model not found\")\n",
    "    exit()"
   ]
  },
  {
   "cell_type": "code",
   "execution_count": null,
   "metadata": {},
   "outputs": [],
   "source": [
    "# Load a model\n",
    "base_model = YOLO(base_model_path)\n",
    "\n",
    "# Train the model\n",
    "train_results = base_model.train(\n",
    "    data=dataset_path,  # path to dataset YAML\n",
    "    epochs=100,  # number of training epochs\n",
    "    imgsz=640,  # training image size\n",
    "    device=\"cpu\",  # device to run on, i.e. device=0 or device=0,1,2,3 or device=cpu\n",
    "    batch=32, # batch size\n",
    ")"
   ]
  },
  {
   "cell_type": "code",
   "execution_count": null,
   "metadata": {},
   "outputs": [],
   "source": [
    "# Evaluate model performance on the validation set\n",
    "metrics = base_model.val()"
   ]
  },
  {
   "cell_type": "markdown",
   "metadata": {},
   "source": [
    "# results"
   ]
  },
  {
   "cell_type": "markdown",
   "metadata": {},
   "source": [
    "## Plot segmented masks"
   ]
  },
  {
   "cell_type": "code",
   "execution_count": null,
   "metadata": {},
   "outputs": [],
   "source": [
    "trained_model_path = \"../models/yolo11s-det-pith.pt\""
   ]
  },
  {
   "cell_type": "code",
   "execution_count": null,
   "metadata": {},
   "outputs": [],
   "source": [
    "# check if the model exists\n",
    "if not os.path.exists(trained_model_path):\n",
    "    print(\"Model not found\")\n",
    "    exit()"
   ]
  },
  {
   "cell_type": "code",
   "execution_count": null,
   "metadata": {},
   "outputs": [],
   "source": [
    "trained_model = YOLO(trained_model_path)"
   ]
  },
  {
   "cell_type": "code",
   "execution_count": null,
   "metadata": {},
   "outputs": [],
   "source": [
    "results = trained_model(\"../input/tree-disk4.jpg\")"
   ]
  },
  {
   "cell_type": "markdown",
   "metadata": {},
   "source": [
    "## Plot segmentation mask with original colors"
   ]
  },
  {
   "cell_type": "code",
   "execution_count": null,
   "metadata": {},
   "outputs": [],
   "source": [
    "for result in results:\n",
    "    height, width = result.orig_img.shape[:2]\n",
    "    background = np.ones((height, width, 3), dtype=np.uint8) * 255\n",
    "    masks = result.masks.xy\n",
    "    orig_img = result.orig_img\n",
    "\n",
    "    for mask in masks:\n",
    "        mask = mask.astype(int)\n",
    "        mask_img = np.zeros_like(orig_img)\n",
    "\n",
    "        cv2.fillPoly(mask_img, [mask], (255, 255, 255))\n",
    "        masked_object = cv2.bitwise_and(orig_img, mask_img)\n",
    "        background[mask_img == 255] = masked_object[mask_img == 255]\n",
    "\n",
    "    background_rgb = cv2.cvtColor(background, cv2.COLOR_BGR2RGB)\n",
    "\n",
    "    plt.imshow(background_rgb)\n",
    "    plt.title('Segmented objects')\n",
    "    plt.axis('off')\n",
    "    plt.show()\n",
    "\n",
    "    cv2.imwrite('segmented_objects.jpg', background)"
   ]
  }
 ],
 "metadata": {
  "kernelspec": {
   "display_name": ".venv",
   "language": "python",
   "name": "python3"
  },
  "language_info": {
   "codemirror_mode": {
    "name": "ipython",
    "version": 3
   },
   "file_extension": ".py",
   "mimetype": "text/x-python",
   "name": "python",
   "nbconvert_exporter": "python",
   "pygments_lexer": "ipython3",
   "version": "3.12.7"
  }
 },
 "nbformat": 4,
 "nbformat_minor": 2
}
