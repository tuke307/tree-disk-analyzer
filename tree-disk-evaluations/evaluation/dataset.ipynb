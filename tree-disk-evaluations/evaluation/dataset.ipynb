{
 "cells": [
  {
   "cell_type": "markdown",
   "metadata": {},
   "source": [
    "# evaluation"
   ]
  },
  {
   "cell_type": "code",
   "execution_count": null,
   "metadata": {},
   "outputs": [],
   "source": [
    "import os\n",
    "import json\n",
    "import numpy as np\n",
    "import cv2\n",
    "from PIL import Image\n",
    "import io\n",
    "import logging\n",
    "import matplotlib.pyplot as plt"
   ]
  },
  {
   "cell_type": "code",
   "execution_count": null,
   "metadata": {},
   "outputs": [],
   "source": [
    "images_data = \"/Volumes/Tony SSD/Projekte/Studienarbeit/Datasets/uruDendro/images\"\n",
    "annotations_data = \"/Volumes/Tony SSD/Projekte/Studienarbeit/Datasets/uruDendro/annotations\"\n",
    "\n",
    "# retrieve all .png files in the folder\n",
    "files = [f for f in os.listdir(images_data) if f.endswith('.png')]\n",
    "\n",
    "# delete macosx files\n",
    "files = [f for f in files if not f.startswith('._')]\n",
    "files = [f for f in files if not f.startswith('.')]\n",
    "\n",
    "print(files)\n",
    "\n",
    "# go trough annotations_data and retrieve the json files mathcing the image files, the image name must be exactly the same\n",
    "annotations = []\n",
    "for f in files:\n",
    "    for a in os.listdir(annotations_data):\n",
    "        if f.split('.')[0] in a:\n",
    "            annotations.append(a)\n",
    "\n",
    "annotations = [f for f in annotations if not f.startswith('._')]\n",
    "annotations = [f for f in annotations if not f.startswith('.')]\n",
    "annotations = [f for f in annotations if not '-M' in f]\n",
    "annotations = [f for f in annotations if not '-V' in f]\n",
    "annotations = [f for f in annotations if not '-S' in f]\n",
    "annotations = [f for f in annotations if not '-C' in f]\n",
    "\n",
    "print(annotations)\n",
    "\n",
    "print(len(files))\n",
    "print(len(annotations))\n",
    "\n",
    "# read the json files and save the lenght (number of times) of the shapes key\n",
    "shapes = []\n",
    "for a in annotations:\n",
    "    with open(os.path.join(annotations_data, a)) as f:\n",
    "        data = json.load(f)\n",
    "        shapes.append(len(data['shapes']))\n",
    "\n",
    "print(shapes)\n",
    "\n",
    "# create a json array with the image name and the number of shapes\n",
    "data = []\n",
    "for i in range(len(files)):\n",
    "    data.append({\n",
    "        \"path\": files[i],\n",
    "        \"age\": shapes[i]\n",
    "    })\n",
    "\n",
    "print(data)"
   ]
  }
 ],
 "metadata": {
  "kernelspec": {
   "display_name": ".venv",
   "language": "python",
   "name": "python3"
  },
  "language_info": {
   "codemirror_mode": {
    "name": "ipython",
    "version": 3
   },
   "file_extension": ".py",
   "mimetype": "text/x-python",
   "name": "python",
   "nbconvert_exporter": "python",
   "pygments_lexer": "ipython3",
   "version": "3.12.7"
  }
 },
 "nbformat": 4,
 "nbformat_minor": 2
}
